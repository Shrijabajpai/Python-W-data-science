{
 "cells": [
  {
   "cell_type": "markdown",
   "metadata": {},
   "source": [
    "# condition\n",
    "1. if\n",
    "2. if else\n",
    "3. if elif else\n",
    "4. nested if\n",
    "5. match case(only works on python 3.10 or above)\n"
   ]
  },
  {
   "cell_type": "markdown",
   "metadata": {},
   "source": [
    "syntax\n",
    "\n",
    "if condition:\n",
    "\n",
    "statement\n",
    "\n",
    "    "
   ]
  },
  {
   "cell_type": "code",
   "execution_count": 1,
   "metadata": {},
   "outputs": [
    {
     "name": "stdout",
     "output_type": "stream",
     "text": [
      "100 is greater than 10 \n"
     ]
    }
   ],
   "source": [
    "if 100>10:\n",
    "    print('100 is greater than 10 ')"
   ]
  },
  {
   "cell_type": "code",
   "execution_count": 2,
   "metadata": {},
   "outputs": [],
   "source": [
    "if 5>10:\n",
    "    print('5 is greater than 10')"
   ]
  },
  {
   "cell_type": "code",
   "execution_count": 5,
   "metadata": {},
   "outputs": [
    {
     "name": "stdout",
     "output_type": "stream",
     "text": [
      "this is great\n",
      "10 is greater than 20\n"
     ]
    }
   ],
   "source": [
    "a=10\n",
    "b=20\n",
    "if a<b:\n",
    "    print('this is great')\n",
    "    print(f'{a} is greater than {b}')"
   ]
  },
  {
   "cell_type": "code",
   "execution_count": 11,
   "metadata": {},
   "outputs": [
    {
     "name": "stdout",
     "output_type": "stream",
     "text": [
      "This is a space\n"
     ]
    }
   ],
   "source": [
    "data=input(\"Enter a data:\")\n",
    "if data.isalpha():\n",
    "    print(\"This is a string\")\n",
    "if data.isnumeric():\n",
    "    print(\"This is numeric\")\n",
    "if data.isspace():\n",
    "    print(\"This is a space\")"
   ]
  },
  {
   "cell_type": "code",
   "execution_count": 12,
   "metadata": {},
   "outputs": [
    {
     "name": "stdout",
     "output_type": "stream",
     "text": [
      "It is hot\n"
     ]
    }
   ],
   "source": [
    "temp = 23\n",
    "if temp < 29:\n",
    "    print(\"It is hot\")\n",
    "else:\n",
    "    print('It is cool')    "
   ]
  },
  {
   "cell_type": "code",
   "execution_count": 13,
   "metadata": {},
   "outputs": [
    {
     "name": "stdout",
     "output_type": "stream",
     "text": [
      "It is odd number\n"
     ]
    }
   ],
   "source": [
    "a=int(input(\"Enter a number\"))\n",
    "if a%2==0:\n",
    "    print(\"It is a even number\")\n",
    "else:\n",
    "    print(\"It is odd number\")"
   ]
  },
  {
   "cell_type": "code",
   "execution_count": 16,
   "metadata": {},
   "outputs": [
    {
     "name": "stdout",
     "output_type": "stream",
     "text": [
      "An apple a day keeps a doctor away\n"
     ]
    }
   ],
   "source": [
    "fruit = input(\"What fruit do you like?\")\n",
    "if fruit == 'apple':\n",
    "    print('An apple a day keeps a doctor away')\n",
    "elif fruit == 'mango':\n",
    "    print('Mango is the king of fruits')\n",
    "elif fruit == 'banana':\n",
    "    print('Banana is good source of potassium')\n",
    "elif fruit == 'orange':\n",
    "    print('Orange is the good source of Vitamin C')\n",
    "else:\n",
    "    print('Not found in the database')"
   ]
  },
  {
   "cell_type": "code",
   "execution_count": 18,
   "metadata": {},
   "outputs": [
    {
     "name": "stdout",
     "output_type": "stream",
     "text": [
      "Welcome Shrija\n"
     ]
    }
   ],
   "source": [
    "username = input(\"Enter your username\")\n",
    "password = input(\"Enter your password\")\n",
    "if username == \"Shrija\":\n",
    "    if password == \"123\":\n",
    "        print(\"Welcome Shrija\")\n",
    "    else:\n",
    "        print(\"Wronf password\")\n",
    "      "
   ]
  },
  {
   "cell_type": "markdown",
   "metadata": {},
   "source": [
    "# wap to calculate the employee total salary base on following condition\n",
    "- if basic salary is less than 10000 then hra is 10% of basic salary and da is 90% of basic salary\n",
    "- if basic salary is greater than 10000 then hra is 20% of basic salary and da is 80% of basic salary\n",
    "- if basic salary is greater than 20000 then hra is 25% of basic salary and da is 75% of basic salary\n",
    "\n"
   ]
  },
  {
   "cell_type": "code",
   "execution_count": 2,
   "metadata": {},
   "outputs": [
    {
     "name": "stdout",
     "output_type": "stream",
     "text": [
      "7500.0 is your hra\n",
      "22500.0 is your da\n",
      "Total salary base: 60000.0\n"
     ]
    }
   ],
   "source": [
    "basic_salary=float(input(\"Enter the salary:\"))\n",
    "if basic_salary < 10000:\n",
    "    hra = 0.1*basic_salary\n",
    "    da = 0.9*basic_salary\n",
    "elif basic_salary > 10000 and basic_salary < 2000:\n",
    "    hra = 0.2*basic_salary\n",
    "    da = 0.8*basic_salary \n",
    "elif basic_salary > 20000:\n",
    "    hra = 0.25*basic_salary\n",
    "    da = 0.75*basic_salary  \n",
    "total_salary=hra+da+basic_salary\n",
    "print(f\"{hra} is your hra\") \n",
    "print(f\"{da} is your da\")\n",
    "print(\"Total salary base:\",total_salary)"
   ]
  },
  {
   "cell_type": "code",
   "execution_count": 5,
   "metadata": {},
   "outputs": [
    {
     "name": "stdout",
     "output_type": "stream",
     "text": [
      "Not available\n"
     ]
    }
   ],
   "source": [
    "icecream = input(\"Enter the name of icecream -\")\n",
    "match(icecream):\n",
    "    case \"chocolate\":\n",
    "        print(\"chocolate = 200.00\")\n",
    "    case \"vanilla\":\n",
    "        print(\"vanilla = 100.00\")\n",
    "    case \"blueberry\":\n",
    "        print(\"blueberry = 300.00\")\n",
    "    case _:\n",
    "        print(\"Not available\")\n"
   ]
  },
  {
   "cell_type": "code",
   "execution_count": null,
   "metadata": {},
   "outputs": [],
   "source": []
  }
 ],
 "metadata": {
  "kernelspec": {
   "display_name": "Python 3.10.6 ('py310')",
   "language": "python",
   "name": "python3"
  },
  "language_info": {
   "codemirror_mode": {
    "name": "ipython",
    "version": 3
   },
   "file_extension": ".py",
   "mimetype": "text/x-python",
   "name": "python",
   "nbconvert_exporter": "python",
   "pygments_lexer": "ipython3",
   "version": "3.10.6"
  },
  "orig_nbformat": 4,
  "vscode": {
   "interpreter": {
    "hash": "7dd1f824a5bed3406dbc71639052db219fd7af4020591b04b5a34b610ceebdaa"
   }
  }
 },
 "nbformat": 4,
 "nbformat_minor": 2
}
