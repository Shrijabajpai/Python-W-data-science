{
 "cells": [
  {
   "cell_type": "markdown",
   "metadata": {},
   "source": [
    "# condition\n",
    "1. if\n",
    "2. if else\n",
    "3. if elif else\n",
    "4. nested if\n",
    "5. match case(only works on python 3.10 or above)\n"
   ]
  },
  {
   "cell_type": "markdown",
   "metadata": {},
   "source": [
    "syntax\n",
    "\n",
    "if condition:\n",
    "\n",
    "statement\n",
    "\n",
    "    "
   ]
  },
  {
   "cell_type": "code",
   "execution_count": 1,
   "metadata": {},
   "outputs": [
    {
     "name": "stdout",
     "output_type": "stream",
     "text": [
      "100 is greater than 10 \n"
     ]
    }
   ],
   "source": [
    "if 100>10:\n",
    "    print('100 is greater than 10 ')"
   ]
  },
  {
   "cell_type": "code",
   "execution_count": 2,
   "metadata": {},
   "outputs": [],
   "source": [
    "if 5>10:\n",
    "    print('5 is greater than 10')"
   ]
  },
  {
   "cell_type": "code",
   "execution_count": 5,
   "metadata": {},
   "outputs": [
    {
     "name": "stdout",
     "output_type": "stream",
     "text": [
      "this is great\n",
      "10 is greater than 20\n"
     ]
    }
   ],
   "source": [
    "a=10\n",
    "b=20\n",
    "if a<b:\n",
    "    print('this is great')\n",
    "    print(f'{a} is greater than {b}')"
   ]
  },
  {
   "cell_type": "code",
   "execution_count": 11,
   "metadata": {},
   "outputs": [
    {
     "name": "stdout",
     "output_type": "stream",
     "text": [
      "This is a space\n"
     ]
    }
   ],
   "source": [
    "data=input(\"Enter a data:\")\n",
    "if data.isalpha():\n",
    "    print(\"This is a string\")\n",
    "if data.isnumeric():\n",
    "    print(\"This is numeric\")\n",
    "if data.isspace():\n",
    "    print(\"This is a space\")"
   ]
  },
  {
   "cell_type": "code",
   "execution_count": 12,
   "metadata": {},
   "outputs": [
    {
     "name": "stdout",
     "output_type": "stream",
     "text": [
      "It is hot\n"
     ]
    }
   ],
   "source": [
    "temp = 23\n",
    "if temp < 29:\n",
    "    print(\"It is hot\")\n",
    "else:\n",
    "    print('It is cool')    "
   ]
  },
  {
   "cell_type": "code",
   "execution_count": 13,
   "metadata": {},
   "outputs": [
    {
     "name": "stdout",
     "output_type": "stream",
     "text": [
      "It is odd number\n"
     ]
    }
   ],
   "source": [
    "a=int(input(\"Enter a number\"))\n",
    "if a%2==0:\n",
    "    print(\"It is a even number\")\n",
    "else:\n",
    "    print(\"It is odd number\")"
   ]
  },
  {
   "cell_type": "code",
   "execution_count": 16,
   "metadata": {},
   "outputs": [
    {
     "name": "stdout",
     "output_type": "stream",
     "text": [
      "An apple a day keeps a doctor away\n"
     ]
    }
   ],
   "source": [
    "fruit = input(\"What fruit do you like?\")\n",
    "if fruit == 'apple':\n",
    "    print('An apple a day keeps a doctor away')\n",
    "elif fruit == 'mango':\n",
    "    print('Mango is the king of fruits')\n",
    "elif fruit == 'banana':\n",
    "    print('Banana is good source of potassium')\n",
    "elif fruit == 'orange':\n",
    "    print('Orange is the good source of Vitamin C')\n",
    "else:\n",
    "    print('Not found in the database')"
   ]
  },
  {
   "cell_type": "code",
   "execution_count": 18,
   "metadata": {},
   "outputs": [
    {
     "name": "stdout",
     "output_type": "stream",
     "text": [
      "Welcome Shrija\n"
     ]
    }
   ],
   "source": [
    "username = input(\"Enter your username\")\n",
    "password = input(\"Enter your password\")\n",
    "if username == \"Shrija\":\n",
    "    if password == \"123\":\n",
    "        print(\"Welcome Shrija\")\n",
    "    else:\n",
    "        print(\"Wronf password\")\n",
    "      "
   ]
  },
  {
   "cell_type": "markdown",
   "metadata": {},
   "source": [
    "# wap to calculate the employee total salary base on following condition\n",
    "- if basic salary is less than 10000 then hra is 10% of basic salary and da is 90% of basic salary\n",
    "- if basic salary is greater than 10000 then hra is 20% of basic salary and da is 80% of basic salary\n",
    "- if basic salary is greater than 20000 then hra is 25% of basic salary and da is 75% of basic salary\n",
    "\n"
   ]
  },
  {
   "cell_type": "code",
   "execution_count": 2,
   "metadata": {},
   "outputs": [
    {
     "name": "stdout",
     "output_type": "stream",
     "text": [
      "7500.0 is your hra\n",
      "22500.0 is your da\n",
      "Total salary base: 60000.0\n"
     ]
    }
   ],
   "source": [
    "basic_salary=float(input(\"Enter the salary:\"))\n",
    "if basic_salary < 10000:\n",
    "    hra = 0.1*basic_salary\n",
    "    da = 0.9*basic_salary\n",
    "elif basic_salary > 10000 and basic_salary < 2000:\n",
    "    hra = 0.2*basic_salary\n",
    "    da = 0.8*basic_salary \n",
    "elif basic_salary > 20000:\n",
    "    hra = 0.25*basic_salary\n",
    "    da = 0.75*basic_salary  \n",
    "total_salary=hra+da+basic_salary\n",
    "print(f\"{hra} is your hra\") \n",
    "print(f\"{da} is your da\")\n",
    "print(\"Total salary base:\",total_salary)"
   ]
  },
  {
   "cell_type": "code",
   "execution_count": 2,
   "metadata": {},
   "outputs": [
    {
     "name": "stdout",
     "output_type": "stream",
     "text": [
      "Not available\n"
     ]
    }
   ],
   "source": [
    "icecream = input(\"Enter the name of icecream -\")\n",
    "match(icecream):\n",
    "    case \"chocolate\":\n",
    "        print(\"chocolate = 200.00\")\n",
    "    case \"vanilla\":\n",
    "        print(\"vanilla = 100.00\")\n",
    "    case \"blueberry\":\n",
    "        print(\"blueberry = 300.00\")\n",
    "    case _:\n",
    "        print(\"Not available\")\n"
   ]
  },
  {
   "cell_type": "code",
   "execution_count": 1,
   "metadata": {},
   "outputs": [
    {
     "data": {
      "text/plain": [
       "14"
      ]
     },
     "execution_count": 1,
     "metadata": {},
     "output_type": "execute_result"
    }
   ],
   "source": [
    "a=5\n",
    "b=9\n",
    "a+b"
   ]
  },
  {
   "cell_type": "code",
   "execution_count": 10,
   "metadata": {},
   "outputs": [
    {
     "name": "stdout",
     "output_type": "stream",
     "text": [
      "Weird\n"
     ]
    }
   ],
   "source": [
    "n = int(input().strip())\n",
    "if n%2 != 0:\n",
    "    print(\"Weird\")\n",
    "elif n%2 == 0  and 2<=n<=5:\n",
    "    print(\"Not Weird\")\n",
    "elif n%2 == 0 and 6<=n<=20:\n",
    "    print(\"Weird\")\n",
    "elif n%2 ==0 and n>20:\n",
    "    print(\"Not Weird\")"
   ]
  },
  {
   "cell_type": "code",
   "execution_count": 1,
   "metadata": {},
   "outputs": [
    {
     "name": "stdout",
     "output_type": "stream",
     "text": [
      "123456789"
     ]
    }
   ],
   "source": [
    "n = int(input())\n",
    "for i in range(1,n+1):\n",
    "    print(i,end=\"\")"
   ]
  },
  {
   "cell_type": "code",
   "execution_count": 5,
   "metadata": {},
   "outputs": [
    {
     "name": "stdout",
     "output_type": "stream",
     "text": [
      "10\n",
      "7\n",
      "4\n",
      "1\n"
     ]
    }
   ],
   "source": [
    "for i in range(10,0,-3):\n",
    "    print(i)"
   ]
  },
  {
   "cell_type": "code",
   "execution_count": 7,
   "metadata": {},
   "outputs": [
    {
     "name": "stdout",
     "output_type": "stream",
     "text": [
      "10 9 8 7 6 5 4 3 2 1 "
     ]
    }
   ],
   "source": [
    "# reverse loop\n",
    "for i in range(10,0,-1):\n",
    "    print(i,end=' ')"
   ]
  },
  {
   "cell_type": "code",
   "execution_count": 8,
   "metadata": {},
   "outputs": [
    {
     "name": "stdout",
     "output_type": "stream",
     "text": [
      "potato\n",
      "tomato\n",
      "onion\n",
      "cabbage\n",
      "carrot\n"
     ]
    }
   ],
   "source": [
    "veg = ['potato', 'tomato', 'onion', 'cabbage', 'carrot']\n",
    "for item in veg:\n",
    "    print(item)"
   ]
  },
  {
   "cell_type": "markdown",
   "metadata": {},
   "source": [
    "enumerate()"
   ]
  },
  {
   "cell_type": "code",
   "execution_count": 10,
   "metadata": {},
   "outputs": [
    {
     "name": "stdout",
     "output_type": "stream",
     "text": [
      "0 got potato\n",
      "1 got tomato\n",
      "2 got onion\n",
      "3 got cabbage\n",
      "4 got carrot\n"
     ]
    }
   ],
   "source": [
    "for index,value in enumerate(veg):\n",
    "    print(index,'got',value)"
   ]
  },
  {
   "cell_type": "markdown",
   "metadata": {},
   "source": [
    "zip"
   ]
  },
  {
   "cell_type": "code",
   "execution_count": 17,
   "metadata": {},
   "outputs": [],
   "source": [
    "veg = ['potato', 'tomato', 'onion', 'cabbage', 'carrot']\n",
    "prices = [35, 80, 50, 25, 40]\n",
    "number = [1, 2, 3, 4, 5]"
   ]
  },
  {
   "cell_type": "code",
   "execution_count": 16,
   "metadata": {},
   "outputs": [
    {
     "name": "stdout",
     "output_type": "stream",
     "text": [
      "potato--------35\n",
      "tomato--------80\n",
      "onion--------50\n",
      "cabbage--------25\n",
      "carrot--------40\n"
     ]
    }
   ],
   "source": [
    "# non pythonic version of code\n",
    "for i in range(len(veg)):\n",
    "    print(f'{veg[i]}--------{prices[i]}')"
   ]
  },
  {
   "cell_type": "code",
   "execution_count": 19,
   "metadata": {},
   "outputs": [
    {
     "name": "stdout",
     "output_type": "stream",
     "text": [
      "1.potato--------35\n",
      "2.tomato--------80\n",
      "3.onion--------50\n",
      "4.cabbage--------25\n",
      "5.carrot--------40\n"
     ]
    }
   ],
   "source": [
    "# pythonic\n",
    "for v,p,n in zip(veg, prices, number):\n",
    "    print(f'{n}.{v}--------{p}')"
   ]
  },
  {
   "cell_type": "markdown",
   "metadata": {},
   "source": [
    "### wap to print following list using zip\n",
    "- list1 contains movie title\n",
    "- list1 contains movie rating\n",
    "- list1 contains movie year\n",
    "- list1 contains movie director\n"
   ]
  },
  {
   "cell_type": "code",
   "execution_count": 20,
   "metadata": {},
   "outputs": [],
   "source": [
    "list1=['Kite', 'Andhadhun', 'Bhootnath']\n",
    "list2=['4.2', '3.5', '4']\n",
    "list3=['2005', '2017', '2007']\n",
    "list4=['Ralph Ziman', 'Sriram Raghavan', 'Vivek Sharma']"
   ]
  },
  {
   "cell_type": "code",
   "execution_count": 23,
   "metadata": {},
   "outputs": [
    {
     "name": "stdout",
     "output_type": "stream",
     "text": [
      "Kite directed by Ralph Ziman in 2005 ratings:4.2\n",
      "Andhadhun directed by Sriram Raghavan in 2017 ratings:3.5\n",
      "Bhootnath directed by Vivek Sharma in 2007 ratings:4\n"
     ]
    }
   ],
   "source": [
    "for l1,l2,l3,l4 in zip(list1, list2, list3, list4):\n",
    "    print(f'{l1} directed by {l4} in {l3} ratings:{l2}')"
   ]
  },
  {
   "cell_type": "markdown",
   "metadata": {},
   "source": [
    "Nested loops"
   ]
  },
  {
   "cell_type": "code",
   "execution_count": 24,
   "metadata": {},
   "outputs": [
    {
     "name": "stdout",
     "output_type": "stream",
     "text": [
      "0 1 2 3 4 5 6 7 8 9 \n",
      "0 1 2 3 4 5 6 7 8 9 \n",
      "0 1 2 3 4 5 6 7 8 9 \n",
      "0 1 2 3 4 5 6 7 8 9 \n",
      "0 1 2 3 4 5 6 7 8 9 \n",
      "0 1 2 3 4 5 6 7 8 9 \n",
      "0 1 2 3 4 5 6 7 8 9 \n",
      "0 1 2 3 4 5 6 7 8 9 \n",
      "0 1 2 3 4 5 6 7 8 9 \n",
      "0 1 2 3 4 5 6 7 8 9 \n"
     ]
    }
   ],
   "source": [
    "for i in range(10):\n",
    "    for i in range(10):\n",
    "        print(i,end=' ')\n",
    "    print()"
   ]
  },
  {
   "cell_type": "markdown",
   "metadata": {},
   "source": [
    "# break and continue"
   ]
  },
  {
   "cell_type": "code",
   "execution_count": 29,
   "metadata": {},
   "outputs": [
    {
     "name": "stdout",
     "output_type": "stream",
     "text": [
      "1 2 3 4 5 6 "
     ]
    }
   ],
   "source": [
    "x = [1,2,3,4,5,6,7,8]\n",
    "for i in  x:\n",
    "    if i == 7:\n",
    "        break\n",
    "    print(i, end =' ')\n",
    "\n"
   ]
  },
  {
   "cell_type": "code",
   "execution_count": 30,
   "metadata": {},
   "outputs": [
    {
     "name": "stdout",
     "output_type": "stream",
     "text": [
      "1 2 3 4 5 6 8 "
     ]
    }
   ],
   "source": [
    "x = [1,2,3,4,5,6,7,8]\n",
    "for i in  x:\n",
    "    if i == 7:\n",
    "        continue\n",
    "    print(i, end =' ')\n"
   ]
  },
  {
   "cell_type": "markdown",
   "metadata": {},
   "source": [
    "continue statement is not used much"
   ]
  },
  {
   "cell_type": "code",
   "execution_count": 33,
   "metadata": {},
   "outputs": [
    {
     "name": "stdout",
     "output_type": "stream",
     "text": [
      "1 2 3 4 5 6 8 "
     ]
    }
   ],
   "source": [
    "x = [1,2,3,4,5,6,7,8]\n",
    "for i in  x:\n",
    "    if i != 7:\n",
    "        print(i, end =' ')\n"
   ]
  },
  {
   "cell_type": "code",
   "execution_count": 50,
   "metadata": {},
   "outputs": [
    {
     "name": "stdout",
     "output_type": "stream",
     "text": [
      "prime number\n"
     ]
    }
   ],
   "source": [
    "n=int(input(\"enter a number\"))\n",
    "for i in range(2,n):\n",
    "    if n%i == 0:\n",
    "        print('Not prime number')\n",
    "        break\n",
    "else:\n",
    "    print('prime number')"
   ]
  },
  {
   "cell_type": "code",
   "execution_count": 52,
   "metadata": {},
   "outputs": [
    {
     "name": "stdout",
     "output_type": "stream",
     "text": [
      "2 3 5 7 11 13 17 19 23 29 31 37 41 43 47 53 59 61 67 71 73 79 83 89 97 "
     ]
    }
   ],
   "source": [
    "for num in range(1,100):\n",
    "    if num == 1:\n",
    "        continue\n",
    "    for i in range(2,num):\n",
    "        if num %i == 0:\n",
    "            break\n",
    "    else:\n",
    "        print(num, end=' ')"
   ]
  },
  {
   "cell_type": "markdown",
   "metadata": {},
   "source": [
    "# while loop"
   ]
  },
  {
   "cell_type": "code",
   "execution_count": 56,
   "metadata": {},
   "outputs": [
    {
     "name": "stdout",
     "output_type": "stream",
     "text": [
      "8 6 4 2 0 "
     ]
    }
   ],
   "source": [
    "x = 10\n",
    "while x>0:\n",
    "    x-=2\n",
    "    print(x,end=' ')"
   ]
  },
  {
   "cell_type": "code",
   "execution_count": 59,
   "metadata": {},
   "outputs": [
    {
     "name": "stdout",
     "output_type": "stream",
     "text": [
      "Total is 9\n"
     ]
    }
   ],
   "source": [
    "total=0\n",
    "while True:\n",
    "    num = int(input(\"enter a number\"))\n",
    "    if num == 0:\n",
    "        break\n",
    "    total += num\n",
    "print(f\"Total is {total}\")"
   ]
  },
  {
   "cell_type": "code",
   "execution_count": 63,
   "metadata": {},
   "outputs": [
    {
     "name": "stdout",
     "output_type": "stream",
     "text": [
      "These are your books\n",
      "['you can win', 'together ever', 'ramayana', 'bhagvat geeta']\n"
     ]
    }
   ],
   "source": [
    "books= []\n",
    "while True:\n",
    "    name = (input('enter a book name:'))\n",
    "    if name:\n",
    "        books.append(name) # add item to list\n",
    "    else:\n",
    "        break\n",
    "print('These are your books')\n",
    "print(books)\n",
    "            "
   ]
  },
  {
   "cell_type": "markdown",
   "metadata": {},
   "source": []
  }
 ],
 "metadata": {
  "kernelspec": {
   "display_name": "Python 3.10.6 ('py310')",
   "language": "python",
   "name": "python3"
  },
  "language_info": {
   "codemirror_mode": {
    "name": "ipython",
    "version": 3
   },
   "file_extension": ".py",
   "mimetype": "text/x-python",
   "name": "python",
   "nbconvert_exporter": "python",
   "pygments_lexer": "ipython3",
   "version": "3.10.6"
  },
  "orig_nbformat": 4,
  "vscode": {
   "interpreter": {
    "hash": "7dd1f824a5bed3406dbc71639052db219fd7af4020591b04b5a34b610ceebdaa"
   }
  }
 },
 "nbformat": 4,
 "nbformat_minor": 2
}
