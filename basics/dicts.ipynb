{
 "cells": [
  {
   "cell_type": "code",
   "execution_count": 2,
   "metadata": {},
   "outputs": [],
   "source": [
    "emp=['Amar','deep','finance',2300,10000,30000,31,True,False,'Acme']"
   ]
  },
  {
   "cell_type": "code",
   "execution_count": 3,
   "metadata": {},
   "outputs": [],
   "source": [
    "emp_dict = {\n",
    "    'fname':'Amar',\n",
    "    'lname':'deep',\n",
    "    'dept':'finance',\n",
    "    'age':31,\n",
    "    'salary':10000,\n",
    "    'bonus':30000,\n",
    "    'is_manager':True,\n",
    "    'is_execute':False,\n",
    "    'company':'Acme'}\n"
   ]
  },
  {
   "cell_type": "code",
   "execution_count": 4,
   "metadata": {},
   "outputs": [
    {
     "name": "stdout",
     "output_type": "stream",
     "text": [
      "{'fname': 'Amar', 'lname': 'deep', 'dept': 'finance', 'age': 31, 'salary': 10000, 'bonus': 30000, 'is_manager': True, 'is_execute': False, 'company': 'Acme'}\n"
     ]
    }
   ],
   "source": [
    "print(emp_dict)"
   ]
  },
  {
   "cell_type": "code",
   "execution_count": 5,
   "metadata": {},
   "outputs": [],
   "source": [
    "weather_data={\n",
    "    'date':'20-09-22',\n",
    "    'temp':32,\n",
    "    'details':{\n",
    "        'humidity':80,\n",
    "        'wind':10,\n",
    "        'pressure':54,\n",
    "        'aqi':103,\n",
    "    },\n",
    "    'city':'Lucknow',\n",
    "    'type':'sunshine',\n",
    "    'icon':'☀️'\n",
    "}"
   ]
  },
  {
   "cell_type": "code",
   "execution_count": 6,
   "metadata": {},
   "outputs": [
    {
     "data": {
      "text/plain": [
       "{'date': '20-09-22',\n",
       " 'temp': 32,\n",
       " 'details': {'humidity': 80, 'wind': 10, 'pressure': 54, 'aqi': 103},\n",
       " 'city': 'Lucknow',\n",
       " 'type': 'sunshine',\n",
       " 'icon': '☀️'}"
      ]
     },
     "execution_count": 6,
     "metadata": {},
     "output_type": "execute_result"
    }
   ],
   "source": [
    "weather_data"
   ]
  },
  {
   "cell_type": "code",
   "execution_count": 7,
   "metadata": {},
   "outputs": [
    {
     "data": {
      "text/plain": [
       "dict_keys(['date', 'temp', 'details', 'city', 'type', 'icon'])"
      ]
     },
     "execution_count": 7,
     "metadata": {},
     "output_type": "execute_result"
    }
   ],
   "source": [
    "# to know keys\n",
    "weather_data.keys()"
   ]
  },
  {
   "cell_type": "code",
   "execution_count": 8,
   "metadata": {},
   "outputs": [
    {
     "data": {
      "text/plain": [
       "dict_values(['20-09-22', 32, {'humidity': 80, 'wind': 10, 'pressure': 54, 'aqi': 103}, 'Lucknow', 'sunshine', '☀️'])"
      ]
     },
     "execution_count": 8,
     "metadata": {},
     "output_type": "execute_result"
    }
   ],
   "source": [
    "weather_data.values()"
   ]
  },
  {
   "cell_type": "code",
   "execution_count": 9,
   "metadata": {},
   "outputs": [
    {
     "data": {
      "text/plain": [
       "['20-09-22',\n",
       " 32,\n",
       " {'humidity': 80, 'wind': 10, 'pressure': 54, 'aqi': 103},\n",
       " 'Lucknow',\n",
       " 'sunshine',\n",
       " '☀️']"
      ]
     },
     "execution_count": 9,
     "metadata": {},
     "output_type": "execute_result"
    }
   ],
   "source": [
    "# to get in list\n",
    "list(weather_data.values())"
   ]
  },
  {
   "cell_type": "code",
   "execution_count": 10,
   "metadata": {},
   "outputs": [
    {
     "data": {
      "text/plain": [
       "'Lucknow'"
      ]
     },
     "execution_count": 10,
     "metadata": {},
     "output_type": "execute_result"
    }
   ],
   "source": [
    "# to get value of a key and if key is not there then key error will occur\n",
    "weather_data['city']"
   ]
  },
  {
   "cell_type": "code",
   "execution_count": 11,
   "metadata": {},
   "outputs": [
    {
     "data": {
      "text/plain": [
       "32"
      ]
     },
     "execution_count": 11,
     "metadata": {},
     "output_type": "execute_result"
    }
   ],
   "source": [
    "weather_data.get('temp')"
   ]
  },
  {
   "cell_type": "code",
   "execution_count": 12,
   "metadata": {},
   "outputs": [
    {
     "data": {
      "text/plain": [
       "'not found'"
      ]
     },
     "execution_count": 12,
     "metadata": {},
     "output_type": "execute_result"
    }
   ],
   "source": [
    "weather_data.get('location','not found')"
   ]
  },
  {
   "cell_type": "code",
   "execution_count": 13,
   "metadata": {},
   "outputs": [
    {
     "name": "stdout",
     "output_type": "stream",
     "text": [
      "fname => Amar\n",
      "lname => deep\n",
      "dept => finance\n",
      "age => 31\n",
      "salary => 10000\n",
      "bonus => 30000\n",
      "is_manager => True\n",
      "is_execute => False\n",
      "company => Acme\n"
     ]
    }
   ],
   "source": [
    "# loopinf over  a dictionary\n",
    "for k in emp_dict:\n",
    "    print(k,'=>',emp_dict[k])"
   ]
  },
  {
   "cell_type": "code",
   "execution_count": 14,
   "metadata": {},
   "outputs": [
    {
     "name": "stdout",
     "output_type": "stream",
     "text": [
      "fname => Amar\n",
      "lname => deep\n",
      "dept => finance\n",
      "age => 31\n",
      "salary => 10000\n",
      "bonus => 30000\n",
      "is_manager => True\n",
      "is_execute => False\n",
      "company => Acme\n"
     ]
    }
   ],
   "source": [
    "# looping over a dictionary using items()\n",
    "for k,v in emp_dict.items():\n",
    "    print(k,'=>',v)"
   ]
  },
  {
   "cell_type": "code",
   "execution_count": 15,
   "metadata": {},
   "outputs": [
    {
     "data": {
      "text/plain": [
       "dict_items([('fname', 'Amar'), ('lname', 'deep'), ('dept', 'finance'), ('age', 31), ('salary', 10000), ('bonus', 30000), ('is_manager', True), ('is_execute', False), ('company', 'Acme')])"
      ]
     },
     "execution_count": 15,
     "metadata": {},
     "output_type": "execute_result"
    }
   ],
   "source": [
    "emp_dict.items()"
   ]
  },
  {
   "cell_type": "code",
   "execution_count": 16,
   "metadata": {},
   "outputs": [],
   "source": [
    "# updating an entry in a dictionary\n",
    "weather_data['temp']=35"
   ]
  },
  {
   "cell_type": "code",
   "execution_count": 17,
   "metadata": {},
   "outputs": [
    {
     "data": {
      "text/plain": [
       "{'date': '20-09-22',\n",
       " 'temp': 35,\n",
       " 'details': {'humidity': 80, 'wind': 10, 'pressure': 54, 'aqi': 103},\n",
       " 'city': 'Lucknow',\n",
       " 'type': 'sunshine',\n",
       " 'icon': '☀️'}"
      ]
     },
     "execution_count": 17,
     "metadata": {},
     "output_type": "execute_result"
    }
   ],
   "source": [
    "weather_data"
   ]
  },
  {
   "cell_type": "code",
   "execution_count": 18,
   "metadata": {},
   "outputs": [
    {
     "name": "stdout",
     "output_type": "stream",
     "text": [
      "{'fname': 'Amar', 'lname': 'deep', 'dept': 'finance', 'age': 31, 'salary': 10000, 'bonus': 30000, 'is_manager': True, 'is_execute': False, 'company': 'Acme', 'designation': 'asst a'}\n"
     ]
    }
   ],
   "source": [
    "# adding data\n",
    "emp_dict['designation']='asst a'\n",
    "print(emp_dict)"
   ]
  },
  {
   "cell_type": "code",
   "execution_count": 20,
   "metadata": {},
   "outputs": [
    {
     "name": "stdout",
     "output_type": "stream",
     "text": [
      "{'fname': 'Amar', 'lname': 'deep', 'dept': 'finance', 'age': 31, 'salary': 30000, 'bonus': 30000, 'is_manager': True, 'is_execute': False, 'company': 'Acme', 'designation': 'Section Manager'}\n"
     ]
    }
   ],
   "source": [
    "# updating data\n",
    "emp_dict['designation']='Section Manager'\n",
    "emp_dict['salary']=30000\n",
    "print(emp_dict)"
   ]
  },
  {
   "cell_type": "code",
   "execution_count": 24,
   "metadata": {},
   "outputs": [
    {
     "name": "stdout",
     "output_type": "stream",
     "text": [
      "{'fname': 'Amar', 'lname': 'deep', 'dept': 'finance', 'age': 31, 'salary': 30000, 'bonus': 30000, 'is_manager': True, 'is_execute': False, 'company': 'Acme', 'designation': 'Section Manager'}\n"
     ]
    }
   ],
   "source": [
    "if 'is_executive' in emp_dict:\n",
    "    emp_dict.pop('is_executive')\n",
    "print(emp_dict)"
   ]
  },
  {
   "cell_type": "code",
   "execution_count": 28,
   "metadata": {},
   "outputs": [
    {
     "name": "stdout",
     "output_type": "stream",
     "text": [
      "{'fname': 'Amar', 'lname': 'deep', 'dept': 'finance', 'age': 31, 'salary': 30000, 'bonus': 30000, 'is_manager': True, 'is_execute': False, 'company': 'Acme'}\n"
     ]
    }
   ],
   "source": [
    "emp_dict.pop('designation')\n",
    "print(emp_dict)"
   ]
  },
  {
   "cell_type": "code",
   "execution_count": 29,
   "metadata": {},
   "outputs": [],
   "source": [
    "reports={\n",
    "    '001':{\n",
    "        'name':'Amar',\n",
    "        'subjects':{'English':80, 'Maths':90, 'Science':95}\n",
    "    },\n",
    "    '002':{\n",
    "        'name':'Vijay',\n",
    "        'subjects':{'English':89, 'Maths':70, 'Science':85}\n",
    "    },\n",
    "    '003':{\n",
    "        'name':'Mini',\n",
    "        'subjects':{'English':90, 'Maths':80, 'Science':92}\n",
    "    },\n",
    "}"
   ]
  },
  {
   "cell_type": "code",
   "execution_count": 32,
   "metadata": {},
   "outputs": [
    {
     "data": {
      "text/plain": [
       "{'001': {'name': 'Amar',\n",
       "  'subjects': {'English': 80, 'Maths': 90, 'Science': 95}},\n",
       " '002': {'name': 'Vijay',\n",
       "  'subjects': {'English': 89, 'Maths': 70, 'Science': 85}},\n",
       " '003': {'name': 'Mini',\n",
       "  'subjects': {'English': 90, 'Maths': 80, 'Science': 92}}}"
      ]
     },
     "execution_count": 32,
     "metadata": {},
     "output_type": "execute_result"
    }
   ],
   "source": [
    "reports"
   ]
  },
  {
   "cell_type": "code",
   "execution_count": 46,
   "metadata": {},
   "outputs": [
    {
     "name": "stdout",
     "output_type": "stream",
     "text": [
      "001\n",
      "name\n",
      "Amar\n",
      "subjects\n",
      "subjects\n",
      "English 80\n",
      "Maths 90\n",
      "Science 95\n",
      "Total: 265/300\n",
      "Prct: 88.33%\n",
      "--------------------\n",
      "002\n",
      "name\n",
      "Vijay\n",
      "subjects\n",
      "subjects\n",
      "English 89\n",
      "Maths 70\n",
      "Science 85\n",
      "Total: 244/300\n",
      "Prct: 81.33%\n",
      "--------------------\n",
      "003\n",
      "name\n",
      "Mini\n",
      "subjects\n",
      "subjects\n",
      "English 90\n",
      "Maths 80\n",
      "Science 92\n",
      "Total: 262/300\n",
      "Prct: 87.33%\n",
      "--------------------\n"
     ]
    }
   ],
   "source": [
    "for roll, data in reports.items():\n",
    "    print(roll)\n",
    "    for key,val in data.items():\n",
    "        print(key)\n",
    "        if isinstance(val,dict):\n",
    "            print(key)\n",
    "            total=0\n",
    "            for sub,marks in val.items():\n",
    "                print(sub,marks)\n",
    "                total+=marks\n",
    "            print(f'Total: {total}/300')\n",
    "            print(f'Prct: {total/300*100:.2f}%')\n",
    "        else:\n",
    "            print(val)\n",
    "    print('--'*10)"
   ]
  },
  {
   "cell_type": "markdown",
   "metadata": {},
   "source": [
    "# file handling\n",
    "- open a file\n",
    "- reading a file\n",
    "- writing a file\n",
    "- appending a file"
   ]
  },
  {
   "cell_type": "code",
   "execution_count": 48,
   "metadata": {},
   "outputs": [],
   "source": [
    "f= open('area.py')        # its just loaded to your memory"
   ]
  },
  {
   "cell_type": "markdown",
   "metadata": {},
   "source": [
    "one can read text files , programming files and files on notepad"
   ]
  },
  {
   "cell_type": "code",
   "execution_count": 50,
   "metadata": {},
   "outputs": [
    {
     "name": "stdout",
     "output_type": "stream",
     "text": [
      "c=float(input(\"enter the circumference:\"))\n",
      "pi=22/7\n",
      "r=7*c/44\n",
      "print(\"radius:\",r)\n",
      "area=pi*r*r\n",
      "print(\"area:\", area)\n"
     ]
    }
   ],
   "source": [
    "f=open('area.py')\n",
    "print(f.read())"
   ]
  },
  {
   "cell_type": "code",
   "execution_count": 54,
   "metadata": {},
   "outputs": [
    {
     "name": "stdout",
     "output_type": "stream",
     "text": [
      "111 characters\n"
     ]
    }
   ],
   "source": [
    "f=open(r'C:\\Users\\shrij\\OneDrive\\Documents\\digipodium\\area.py')           # r= raw\n",
    "content = f.read()   \n",
    "print(f'{len(content)} characters')                         "
   ]
  },
  {
   "cell_type": "code",
   "execution_count": 56,
   "metadata": {},
   "outputs": [],
   "source": [
    "data ='hi everyone , this is a sample file'\n",
    "with open ('mydata,txt', 'w') as file:                                    # w is for creating a file \n",
    "    file.write(data)"
   ]
  },
  {
   "cell_type": "code",
   "execution_count": 58,
   "metadata": {},
   "outputs": [],
   "source": [
    "data ='\\nthis is the new data that is going to be written'\n",
    "with open ('mydata,txt', 'a') as file:                                    # a is for adding/append data in a file\n",
    "    file.write(data)"
   ]
  },
  {
   "cell_type": "code",
   "execution_count": 60,
   "metadata": {},
   "outputs": [
    {
     "name": "stdout",
     "output_type": "stream",
     "text": [
      "File bio.txt saved\n"
     ]
    }
   ],
   "source": [
    "file ='bio.txt'\n",
    "content = ''\n",
    "while True:\n",
    "    line=input('Enter a line(or q to quit):')\n",
    "    if line == 'q':\n",
    "        break\n",
    "    content += line +'\\n'\n",
    "\n",
    "with open(file, 'w') as f:\n",
    "    f.write(content)\n",
    "    print(f'File {file} saved')\n",
    "\n"
   ]
  },
  {
   "cell_type": "code",
   "execution_count": null,
   "metadata": {},
   "outputs": [],
   "source": []
  }
 ],
 "metadata": {
  "kernelspec": {
   "display_name": "Python 3.9.12 ('base')",
   "language": "python",
   "name": "python3"
  },
  "language_info": {
   "codemirror_mode": {
    "name": "ipython",
    "version": 3
   },
   "file_extension": ".py",
   "mimetype": "text/x-python",
   "name": "python",
   "nbconvert_exporter": "python",
   "pygments_lexer": "ipython3",
   "version": "3.9.12 (main, Apr  4 2022, 05:22:27) [MSC v.1916 64 bit (AMD64)]"
  },
  "orig_nbformat": 4,
  "vscode": {
   "interpreter": {
    "hash": "4db7988a1aeac412f04a0bbe6d07a55ff6c52906441e21d3e2b5cae684fe321d"
   }
  }
 },
 "nbformat": 4,
 "nbformat_minor": 2
}
