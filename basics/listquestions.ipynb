{
 "cells": [
  {
   "cell_type": "code",
   "execution_count": 1,
   "metadata": {},
   "outputs": [
    {
     "name": "stdout",
     "output_type": "stream",
     "text": [
      "[2, 4, 6, 8, 10, 12, 14, 16, 18, 20, 22, 24, 26, 28, 30, 32, 34, 36, 38, 40, 42, 44, 46, 48, 50, 52, 54, 56, 58, 60, 62, 64, 66, 68, 70, 72, 74, 76, 78, 80, 82, 84, 86, 88, 90, 92, 94, 96, 98, 100]\n"
     ]
    }
   ],
   "source": [
    "evens_2 = list(range(2,101,2))\n",
    "print(evens_2)"
   ]
  },
  {
   "cell_type": "markdown",
   "metadata": {},
   "source": [
    "# wap to create a list of 10 elements and then\n",
    "- print the list\n",
    "- print the sum\n",
    "- print the mean\n",
    "- print the max\n",
    "- print the min"
   ]
  },
  {
   "cell_type": "code",
   "execution_count": 7,
   "metadata": {},
   "outputs": [
    {
     "name": "stdout",
     "output_type": "stream",
     "text": [
      "[12, 45, 67, 98, 40]\n",
      "262\n",
      "52.4\n",
      "12\n",
      "98\n"
     ]
    }
   ],
   "source": [
    "l = [12,45,67,98,40]\n",
    "print(l)\n",
    "s = sum(l)\n",
    "print(s)\n",
    "m = sum(l)/len(l)\n",
    "print(m)\n",
    "print(min(l))\n",
    "print(max(l))"
   ]
  },
  {
   "cell_type": "markdown",
   "metadata": {},
   "source": [
    "# wap to add two lists element wise and store result in 3rd ist"
   ]
  },
  {
   "cell_type": "code",
   "execution_count": 14,
   "metadata": {},
   "outputs": [
    {
     "name": "stdout",
     "output_type": "stream",
     "text": [
      "[10, 10, 15, 11, 10]\n"
     ]
    }
   ],
   "source": [
    "x = [1,4,7,8,5]\n",
    "y = [9,6,8,3,5]\n",
    "z = []\n",
    "for i in range(5):\n",
    "    z.append(x[i]+y[i])\n",
    "print(z)"
   ]
  },
  {
   "cell_type": "code",
   "execution_count": 16,
   "metadata": {},
   "outputs": [
    {
     "name": "stdout",
     "output_type": "stream",
     "text": [
      "[10, 10, 15, 11, 10]\n"
     ]
    }
   ],
   "source": [
    "z=[]\n",
    "for i,j in zip(x,y):\n",
    "    z.append(i+j)\n",
    "print(z)"
   ]
  },
  {
   "cell_type": "markdown",
   "metadata": {},
   "source": [
    "# wap to create a new list from a existing list, where each element is increased by a power of 3\n",
    "- [1,2,3] -> [1,8,27]"
   ]
  },
  {
   "cell_type": "code",
   "execution_count": 22,
   "metadata": {},
   "outputs": [
    {
     "name": "stdout",
     "output_type": "stream",
     "text": [
      "[1, 8, 27]\n"
     ]
    }
   ],
   "source": [
    "x=[1,2,3]\n",
    "y=[]\n",
    "for i in x:\n",
    "    y.append(i**3)\n",
    "print(y)"
   ]
  },
  {
   "cell_type": "markdown",
   "metadata": {},
   "source": [
    "# wap to generate  a list of 50 elements where each number is divisible by 5 and 7 both"
   ]
  },
  {
   "cell_type": "code",
   "execution_count": 33,
   "metadata": {},
   "outputs": [
    {
     "name": "stdout",
     "output_type": "stream",
     "text": [
      "[35, 70, 105, 140, 175, 210, 245, 280, 315, 350, 385, 420, 455, 490, 525, 560, 595, 630, 665, 700, 735, 770, 805, 840, 875, 910, 945, 980, 1015, 1050, 1085, 1120, 1155, 1190, 1225, 1260, 1295, 1330, 1365, 1400, 1435, 1470, 1505, 1540, 1575, 1610, 1645, 1680, 1715, 1750, 1785]\n"
     ]
    }
   ],
   "source": [
    "a=[]\n",
    "i = 5\n",
    "while True:\n",
    "    if i%5==0 and i%7==0:\n",
    "        a.append(i)\n",
    "    if len(a)>50:\n",
    "        break\n",
    "    i+=1\n",
    "print(a)\n"
   ]
  },
  {
   "cell_type": "markdown",
   "metadata": {},
   "source": [
    "# wap to filter all odd numbers from a list to create a clean list "
   ]
  },
  {
   "cell_type": "code",
   "execution_count": 25,
   "metadata": {},
   "outputs": [
    {
     "name": "stdout",
     "output_type": "stream",
     "text": [
      "[2, 78]\n"
     ]
    }
   ],
   "source": [
    "x = [2,5,7,9,45,78]\n",
    "y=[]\n",
    "for i in x:\n",
    "    if i%2==0:\n",
    "        y.append(i)\n",
    "print(y)"
   ]
  },
  {
   "cell_type": "markdown",
   "metadata": {},
   "source": [
    "# wap to generate a list of acronyms from a list of words"
   ]
  },
  {
   "cell_type": "code",
   "execution_count": 1,
   "metadata": {},
   "outputs": [
    {
     "name": "stdout",
     "output_type": "stream",
     "text": [
      "['PP', 'AI', 'ML']\n"
     ]
    }
   ],
   "source": [
    "a=['Python Programming','Artificial Intelligence','Machine Learning']\n",
    "b=[]\n",
    "for names in a:\n",
    "    names_words=names.split()                       # split the name into words\n",
    "    fn = names_words[0]                         # first name \n",
    "    ln = names_words[1]                          # last name\n",
    "    b.append(fn[0]+ln[0])                    # append the first letter of the first name and the last name\n",
    "print(b)\n",
    "    \n"
   ]
  },
  {
   "cell_type": "code",
   "execution_count": null,
   "metadata": {},
   "outputs": [],
   "source": []
  }
 ],
 "metadata": {
  "kernelspec": {
   "display_name": "Python 3.9.12 ('base')",
   "language": "python",
   "name": "python3"
  },
  "language_info": {
   "codemirror_mode": {
    "name": "ipython",
    "version": 3
   },
   "file_extension": ".py",
   "mimetype": "text/x-python",
   "name": "python",
   "nbconvert_exporter": "python",
   "pygments_lexer": "ipython3",
   "version": "3.9.12"
  },
  "orig_nbformat": 4,
  "vscode": {
   "interpreter": {
    "hash": "4db7988a1aeac412f04a0bbe6d07a55ff6c52906441e21d3e2b5cae684fe321d"
   }
  }
 },
 "nbformat": 4,
 "nbformat_minor": 2
}
