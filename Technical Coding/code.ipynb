{
 "cells": [
  {
   "cell_type": "code",
   "execution_count": 13,
   "metadata": {},
   "outputs": [
    {
     "name": "stdout",
     "output_type": "stream",
     "text": [
      "1\n",
      "48\n",
      "2\n",
      "24\n",
      "3\n",
      "16\n",
      "4\n",
      "12\n",
      "6\n",
      "8\n",
      "The count is: 10\n"
     ]
    }
   ],
   "source": [
    "# P1\n",
    "n=int(input('Enter a number'))\n",
    "c=0\n",
    "for i in range(1,int(n**(1/2))+1):\n",
    "    if n%i==0:\n",
    "        if i==n//i:\n",
    "            print(i)\n",
    "            c=c+1\n",
    "        else:\n",
    "            print(i)\n",
    "            print(n//i)\n",
    "            c=c+2\n",
    "print(\"The count is:\",c)"
   ]
  },
  {
   "cell_type": "code",
   "execution_count": 19,
   "metadata": {},
   "outputs": [
    {
     "name": "stdout",
     "output_type": "stream",
     "text": [
      "45 = 1 * 45\n",
      "45 = 3 * 15\n",
      "45 = 5 * 9\n",
      "The count is: 3\n"
     ]
    }
   ],
   "source": [
    "#P2\n",
    "n=int(input('Enter a number'))\n",
    "c=0\n",
    "for i in range(1,int(n**(1/2))+1):\n",
    "    if n%i==0:\n",
    "        print(n,\"=\",i,\"*\",n//i )\n",
    "        c=c+1\n",
    "print('The count is:',c)"
   ]
  },
  {
   "cell_type": "code",
   "execution_count": 21,
   "metadata": {},
   "outputs": [
    {
     "name": "stdout",
     "output_type": "stream",
     "text": [
      "1\n",
      "4\n",
      "16\n",
      "The count is : 3\n"
     ]
    }
   ],
   "source": [
    "#P3\n",
    "n=int(input('Enter a number'))\n",
    "c=0\n",
    "for i in range(1,int(n**(1/2))+1):\n",
    "    if n%(i**2)==0:\n",
    "        print(i**2)\n",
    "        c=c+1\n",
    "print('The count is :',c)\n"
   ]
  },
  {
   "cell_type": "code",
   "execution_count": 24,
   "metadata": {},
   "outputs": [
    {
     "name": "stdout",
     "output_type": "stream",
     "text": [
      "1\n",
      "8\n",
      "The count is: 2\n"
     ]
    }
   ],
   "source": [
    "#P4\n",
    "n=int(input('Enter a number'))\n",
    "c=0\n",
    "for i in range(1,int(n**(1/3))+1):\n",
    "    if n%(i**3)==0:\n",
    "        print(i**3)\n",
    "        c=c+1\n",
    "print('The count is:',c)"
   ]
  },
  {
   "cell_type": "code",
   "execution_count": 4,
   "metadata": {},
   "outputs": [
    {
     "name": "stdout",
     "output_type": "stream",
     "text": [
      "Prime number\n"
     ]
    }
   ],
   "source": [
    "#P5\n",
    "def is_prime():\n",
    "    n=int(input('Enter a number'))\n",
    "    c=0\n",
    "    if n==2 or 3:\n",
    "        print('Prime number')\n",
    "    else:\n",
    "        for i in range(2,int(n**(1/2))+1):\n",
    "            if n%i==0:\n",
    "                print('Not prime')\n",
    "                break\n",
    "            else:\n",
    "                c=c+1\n",
    "            if c==0:\n",
    "                print('Prime')\n",
    "is_prime()\n"
   ]
  },
  {
   "cell_type": "code",
   "execution_count": null,
   "metadata": {},
   "outputs": [],
   "source": []
  }
 ],
 "metadata": {
  "kernelspec": {
   "display_name": "Python 3.9.12 ('base')",
   "language": "python",
   "name": "python3"
  },
  "language_info": {
   "codemirror_mode": {
    "name": "ipython",
    "version": 3
   },
   "file_extension": ".py",
   "mimetype": "text/x-python",
   "name": "python",
   "nbconvert_exporter": "python",
   "pygments_lexer": "ipython3",
   "version": "3.9.12"
  },
  "orig_nbformat": 4,
  "vscode": {
   "interpreter": {
    "hash": "4db7988a1aeac412f04a0bbe6d07a55ff6c52906441e21d3e2b5cae684fe321d"
   }
  }
 },
 "nbformat": 4,
 "nbformat_minor": 2
}
