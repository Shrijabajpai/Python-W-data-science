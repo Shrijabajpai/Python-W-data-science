{
 "cells": [
  {
   "cell_type": "code",
   "execution_count": 1,
   "metadata": {},
   "outputs": [],
   "source": [
    "import numpy as np"
   ]
  },
  {
   "cell_type": "code",
   "execution_count": 2,
   "metadata": {},
   "outputs": [
    {
     "name": "stdout",
     "output_type": "stream",
     "text": [
      "[1 2 3 4]\n"
     ]
    }
   ],
   "source": [
    "x=np.array([1,2,3,4])\n",
    "print(x)"
   ]
  },
  {
   "cell_type": "code",
   "execution_count": 3,
   "metadata": {},
   "outputs": [
    {
     "name": "stdout",
     "output_type": "stream",
     "text": [
      "[[2 3]\n",
      " [5 6]]\n"
     ]
    }
   ],
   "source": [
    "x2=np.array([[2,3],[5,6]])\n",
    "print(x2)"
   ]
  },
  {
   "cell_type": "code",
   "execution_count": 4,
   "metadata": {},
   "outputs": [
    {
     "name": "stdout",
     "output_type": "stream",
     "text": [
      "(4,)\n",
      "(2, 2)\n",
      "1\n",
      "2\n"
     ]
    }
   ],
   "source": [
    "print(x.shape)\n",
    "print(x2.shape)              # shape tells rows and columns\n",
    "print(x.ndim)\n",
    "print(x2.ndim)         # ndim=dimensional"
   ]
  },
  {
   "cell_type": "code",
   "execution_count": 5,
   "metadata": {},
   "outputs": [
    {
     "name": "stdout",
     "output_type": "stream",
     "text": [
      "[-5.  -4.5 -4.  -3.5 -3.  -2.5 -2.  -1.5 -1.  -0.5  0.   0.5  1.   1.5\n",
      "  2.   2.5  3.   3.5  4.   4.5  5.   5.5]\n",
      "(22,)\n",
      "22\n"
     ]
    }
   ],
   "source": [
    "a=np.arange(-5,6,.5)\n",
    "print(a)\n",
    "print(a.shape)\n",
    "print(a.size)"
   ]
  },
  {
   "cell_type": "code",
   "execution_count": 6,
   "metadata": {},
   "outputs": [
    {
     "name": "stdout",
     "output_type": "stream",
     "text": [
      "[ 1.          1.18367347  1.36734694  1.55102041  1.73469388  1.91836735\n",
      "  2.10204082  2.28571429  2.46938776  2.65306122  2.83673469  3.02040816\n",
      "  3.20408163  3.3877551   3.57142857  3.75510204  3.93877551  4.12244898\n",
      "  4.30612245  4.48979592  4.67346939  4.85714286  5.04081633  5.2244898\n",
      "  5.40816327  5.59183673  5.7755102   5.95918367  6.14285714  6.32653061\n",
      "  6.51020408  6.69387755  6.87755102  7.06122449  7.24489796  7.42857143\n",
      "  7.6122449   7.79591837  7.97959184  8.16326531  8.34693878  8.53061224\n",
      "  8.71428571  8.89795918  9.08163265  9.26530612  9.44897959  9.63265306\n",
      "  9.81632653 10.        ]\n"
     ]
    }
   ],
   "source": [
    "b=np.linspace(1,10,50)           # 50 is the number of items to be generated\n",
    "print(b)"
   ]
  },
  {
   "cell_type": "code",
   "execution_count": 7,
   "metadata": {},
   "outputs": [
    {
     "name": "stdout",
     "output_type": "stream",
     "text": [
      "[[0.88348813 0.03399515 0.38806512]\n",
      " [0.40444898 0.93942708 0.58982987]\n",
      " [0.05083562 0.3760752  0.99488896]]\n",
      "(3, 3)\n",
      "9\n"
     ]
    }
   ],
   "source": [
    "c=np.random.random((3,3))    # (3,3) is the size of the matrix\n",
    "print(c)\n",
    "print(c.shape)\n",
    "print(c.size)"
   ]
  },
  {
   "cell_type": "code",
   "execution_count": 8,
   "metadata": {},
   "outputs": [
    {
     "name": "stdout",
     "output_type": "stream",
     "text": [
      "[[-1.63550415  0.41617087 -1.74508387]\n",
      " [-0.36299015  1.14104355  0.78469181]\n",
      " [-1.05263952  0.20123713 -1.22383543]]\n",
      "(3, 3)\n",
      "9\n"
     ]
    }
   ],
   "source": [
    "d=np.random.randn(3,3)\n",
    "print(d)\n",
    "print(d.shape)\n",
    "print(d.size)"
   ]
  },
  {
   "cell_type": "code",
   "execution_count": 9,
   "metadata": {},
   "outputs": [
    {
     "name": "stdout",
     "output_type": "stream",
     "text": [
      "[[[1 4 7]\n",
      "  [8 1 9]\n",
      "  [9 9 1]]\n",
      "\n",
      " [[6 7 2]\n",
      "  [8 4 1]\n",
      "  [8 6 5]]\n",
      "\n",
      " [[3 3 1]\n",
      "  [6 5 4]\n",
      "  [2 8 8]]]\n",
      "(3, 3, 3)\n",
      "27\n"
     ]
    }
   ],
   "source": [
    "e=np.random.randint(1,10, (3,3,3))\n",
    "print(e)\n",
    "print(e.shape)\n",
    "print(e.size)"
   ]
  },
  {
   "cell_type": "code",
   "execution_count": 10,
   "metadata": {},
   "outputs": [
    {
     "name": "stdout",
     "output_type": "stream",
     "text": [
      "(90,)\n"
     ]
    }
   ],
   "source": [
    "f=np.linspace(1,100,90)\n",
    "print(f.shape)"
   ]
  },
  {
   "cell_type": "code",
   "execution_count": 11,
   "metadata": {},
   "outputs": [
    {
     "name": "stdout",
     "output_type": "stream",
     "text": [
      "[[  1.           2.11235955   3.2247191    4.33707865   5.4494382\n",
      "    6.56179775   7.6741573    8.78651685   9.8988764   11.01123596]\n",
      " [ 12.12359551  13.23595506  14.34831461  15.46067416  16.57303371\n",
      "   17.68539326  18.79775281  19.91011236  21.02247191  22.13483146]\n",
      " [ 23.24719101  24.35955056  25.47191011  26.58426966  27.69662921\n",
      "   28.80898876  29.92134831  31.03370787  32.14606742  33.25842697]\n",
      " [ 34.37078652  35.48314607  36.59550562  37.70786517  38.82022472\n",
      "   39.93258427  41.04494382  42.15730337  43.26966292  44.38202247]\n",
      " [ 45.49438202  46.60674157  47.71910112  48.83146067  49.94382022\n",
      "   51.05617978  52.16853933  53.28089888  54.39325843  55.50561798]\n",
      " [ 56.61797753  57.73033708  58.84269663  59.95505618  61.06741573\n",
      "   62.17977528  63.29213483  64.40449438  65.51685393  66.62921348]\n",
      " [ 67.74157303  68.85393258  69.96629213  71.07865169  72.19101124\n",
      "   73.30337079  74.41573034  75.52808989  76.64044944  77.75280899]\n",
      " [ 78.86516854  79.97752809  81.08988764  82.20224719  83.31460674\n",
      "   84.42696629  85.53932584  86.65168539  87.76404494  88.87640449]\n",
      " [ 89.98876404  91.1011236   92.21348315  93.3258427   94.43820225\n",
      "   95.5505618   96.66292135  97.7752809   98.88764045 100.        ]]\n",
      "(9, 10)\n"
     ]
    }
   ],
   "source": [
    "f2=f.reshape(9,10)           # (9,10) is the rows and columns\n",
    "print(f2)\n",
    "print(f2.shape)"
   ]
  },
  {
   "cell_type": "code",
   "execution_count": 12,
   "metadata": {},
   "outputs": [
    {
     "name": "stdout",
     "output_type": "stream",
     "text": [
      "(15, 3, 2)\n",
      "[[[  1.           2.11235955]\n",
      "  [  3.2247191    4.33707865]\n",
      "  [  5.4494382    6.56179775]]\n",
      "\n",
      " [[  7.6741573    8.78651685]\n",
      "  [  9.8988764   11.01123596]\n",
      "  [ 12.12359551  13.23595506]]\n",
      "\n",
      " [[ 14.34831461  15.46067416]\n",
      "  [ 16.57303371  17.68539326]\n",
      "  [ 18.79775281  19.91011236]]\n",
      "\n",
      " [[ 21.02247191  22.13483146]\n",
      "  [ 23.24719101  24.35955056]\n",
      "  [ 25.47191011  26.58426966]]\n",
      "\n",
      " [[ 27.69662921  28.80898876]\n",
      "  [ 29.92134831  31.03370787]\n",
      "  [ 32.14606742  33.25842697]]\n",
      "\n",
      " [[ 34.37078652  35.48314607]\n",
      "  [ 36.59550562  37.70786517]\n",
      "  [ 38.82022472  39.93258427]]\n",
      "\n",
      " [[ 41.04494382  42.15730337]\n",
      "  [ 43.26966292  44.38202247]\n",
      "  [ 45.49438202  46.60674157]]\n",
      "\n",
      " [[ 47.71910112  48.83146067]\n",
      "  [ 49.94382022  51.05617978]\n",
      "  [ 52.16853933  53.28089888]]\n",
      "\n",
      " [[ 54.39325843  55.50561798]\n",
      "  [ 56.61797753  57.73033708]\n",
      "  [ 58.84269663  59.95505618]]\n",
      "\n",
      " [[ 61.06741573  62.17977528]\n",
      "  [ 63.29213483  64.40449438]\n",
      "  [ 65.51685393  66.62921348]]\n",
      "\n",
      " [[ 67.74157303  68.85393258]\n",
      "  [ 69.96629213  71.07865169]\n",
      "  [ 72.19101124  73.30337079]]\n",
      "\n",
      " [[ 74.41573034  75.52808989]\n",
      "  [ 76.64044944  77.75280899]\n",
      "  [ 78.86516854  79.97752809]]\n",
      "\n",
      " [[ 81.08988764  82.20224719]\n",
      "  [ 83.31460674  84.42696629]\n",
      "  [ 85.53932584  86.65168539]]\n",
      "\n",
      " [[ 87.76404494  88.87640449]\n",
      "  [ 89.98876404  91.1011236 ]\n",
      "  [ 92.21348315  93.3258427 ]]\n",
      "\n",
      " [[ 94.43820225  95.5505618 ]\n",
      "  [ 96.66292135  97.7752809 ]\n",
      "  [ 98.88764045 100.        ]]]\n"
     ]
    }
   ],
   "source": [
    "# 15=rows,3=columns and 2=layers\n",
    "f3=f.reshape(15,3,2)\n",
    "print(f3.shape)\n",
    "print(f3)\n"
   ]
  },
  {
   "cell_type": "markdown",
   "metadata": {},
   "source": [
    "# MATH"
   ]
  },
  {
   "cell_type": "code",
   "execution_count": 13,
   "metadata": {},
   "outputs": [
    {
     "name": "stdout",
     "output_type": "stream",
     "text": [
      "[[9 9 9]\n",
      " [2 4 6]\n",
      " [5 4 6]]\n",
      "[[4 6 9]\n",
      " [3 9 5]\n",
      " [6 8 2]]\n",
      "\n"
     ]
    }
   ],
   "source": [
    "x=np.random.randint(1,10,(3,3))\n",
    "y=np.random.randint(1,10,(3,3))\n",
    "print(x)\n",
    "print(y)\n",
    "print()"
   ]
  },
  {
   "cell_type": "code",
   "execution_count": 14,
   "metadata": {},
   "outputs": [
    {
     "name": "stdout",
     "output_type": "stream",
     "text": [
      "[[13 15 18]\n",
      " [ 5 13 11]\n",
      " [11 12  8]]\n",
      "[[ 5  3  0]\n",
      " [-1 -5  1]\n",
      " [-1 -4  4]]\n",
      "[[36 54 81]\n",
      " [ 6 36 30]\n",
      " [30 32 12]]\n",
      "[[2.25       1.5        1.        ]\n",
      " [0.66666667 0.44444444 1.2       ]\n",
      " [0.83333333 0.5        3.        ]]\n",
      "[[2 1 1]\n",
      " [0 0 1]\n",
      " [0 0 3]]\n",
      "[[1 3 0]\n",
      " [2 4 1]\n",
      " [5 4 0]]\n",
      "[[     6561    531441 387420489]\n",
      " [        8    262144      7776]\n",
      " [    15625     65536        36]]\n"
     ]
    }
   ],
   "source": [
    "print(x+y)\n",
    "print(x-y)\n",
    "print(x*y)\n",
    "print(x/y)\n",
    "print(x//y)\n",
    "print(x%y)\n",
    "print(x**y)"
   ]
  },
  {
   "cell_type": "code",
   "execution_count": 15,
   "metadata": {},
   "outputs": [
    {
     "name": "stdout",
     "output_type": "stream",
     "text": [
      "[[117 207 144]\n",
      " [ 56  96  50]\n",
      " [ 68 114  77]]\n",
      "[[117 207 144]\n",
      " [ 56  96  50]\n",
      " [ 68 114  77]]\n",
      "[[ 27 -45  18]\n",
      " [-34   8   6]\n",
      " [-40  26  16]]\n",
      "[[117 207 144]\n",
      " [ 56  96  50]\n",
      " [ 68 114  77]]\n"
     ]
    }
   ],
   "source": [
    "print(np.dot(x,y))              # dot product\n",
    "print(x.dot(y))                 # same dot product\n",
    "print(np.cross(x,y))          # cross product\n",
    "print(np.matmul(x,y))           # matrix multiplication"
   ]
  },
  {
   "cell_type": "code",
   "execution_count": 16,
   "metadata": {},
   "outputs": [
    {
     "name": "stdout",
     "output_type": "stream",
     "text": [
      "54\n",
      "[16 17 21]\n",
      "[27 12 15]\n",
      "6.0\n",
      "[5.33333333 5.66666667 7.        ]\n",
      "[9. 4. 5.]\n",
      "2.4037008503093262\n",
      "[2.86744176 2.3570226  1.41421356]\n",
      "[0.         1.63299316 0.81649658]\n",
      "6.0\n",
      "[5. 4. 6.]\n",
      "[9. 4. 5.]\n"
     ]
    }
   ],
   "source": [
    "print(x.sum())                    # sum of all elements\n",
    "print(x.sum(axis=0))              # sum of each column\n",
    "print(x.sum(axis=1))              # sum of each row\n",
    "print(x.mean())                   # mean of all elements\n",
    "print(x.mean(axis=0))             # mean of each column\n",
    "print(x.mean(axis=1))             # mean of each row\n",
    "print(x.std())                    # standard deviation of all elements\n",
    "print(x.std(axis=0))              # standard deviation of each column\n",
    "print(x.std(axis=1))              # standard deviation of each row\n",
    "print(np.median(x))               # median of all elements\n",
    "print(np.median(x,axis=0))        # median of each column\n",
    "print(np.median(x,axis=1))        # median of each row"
   ]
  },
  {
   "cell_type": "code",
   "execution_count": 17,
   "metadata": {},
   "outputs": [],
   "source": [
    "import matplotlib.pyplot as plt"
   ]
  },
  {
   "cell_type": "code",
   "execution_count": 18,
   "metadata": {},
   "outputs": [
    {
     "data": {
      "text/plain": [
       "[<matplotlib.lines.Line2D at 0x2161f632550>]"
      ]
     },
     "execution_count": 18,
     "metadata": {},
     "output_type": "execute_result"
    },
    {
     "data": {
      "image/png": "[encoded data removed]",
      "text/plain": [
       "<Figure size 640x480 with 1 Axes>"
      ]
     },
     "metadata": {},
     "output_type": "display_data"
    }
   ],
   "source": [
    "t=np.linspace(0,2*np.pi, 100)\n",
    "y=np.sin(t)\n",
    "plt.plot(t,y)"
   ]
  },
  {
   "cell_type": "code",
   "execution_count": 19,
   "metadata": {},
   "outputs": [
    {
     "data": {
      "image/png": "[encoded data removed]",
      "text/plain": [
       "<Figure size 640x480 with 1 Axes>"
      ]
     },
     "metadata": {},
     "output_type": "display_data"
    }
   ],
   "source": [
    "t=np.linspace(0,4*np.pi, 100)\n",
    "y=np.sin(t)\n",
    "x=np.cos(t)\n",
    "plt.plot(t,y)\n",
    "plt.plot(t,x, 'ro')\n",
    "plt.show()"
   ]
  },
  {
   "cell_type": "code",
   "execution_count": 20,
   "metadata": {},
   "outputs": [
    {
     "data": {
      "text/plain": [
       "<BarContainer object of 12 artists>"
      ]
     },
     "execution_count": 20,
     "metadata": {},
     "output_type": "execute_result"
    },
    {
     "data": {
      "image/png": "[encoded data removed]",
      "text/plain": [
       "<Figure size 640x480 with 1 Axes>"
      ]
     },
     "metadata": {},
     "output_type": "display_data"
    }
   ],
   "source": [
    "rainfall=[20,30,40,50,60,70,80,90,100,120,130,140]\n",
    "months=['Jan','Feb','March','April','May','June','July','August','September','October','November','December']\n",
    "plt.bar(months,rainfall)"
   ]
  },
  {
   "cell_type": "markdown",
   "metadata": {},
   "source": [
    "# Boolean Filtering\n"
   ]
  },
  {
   "cell_type": "code",
   "execution_count": 21,
   "metadata": {},
   "outputs": [
    {
     "name": "stdout",
     "output_type": "stream",
     "text": [
      "[[408 601 112 183 532]\n",
      " [362 874 498 355 630]\n",
      " [366 493 406 631 588]\n",
      " [  7 977 965 638 140]\n",
      " [796 472 101 556 424]]\n"
     ]
    }
   ],
   "source": [
    "data=np.random.randint(1,1000, (5,5))\n",
    "print(data)"
   ]
  },
  {
   "cell_type": "code",
   "execution_count": 25,
   "metadata": {},
   "outputs": [
    {
     "name": "stdout",
     "output_type": "stream",
     "text": [
      "408 112 183 362 498 355 366 493 406 7 140 472 101 424 "
     ]
    }
   ],
   "source": [
    "# noob way for getting the filtered data\n",
    "# 2d matrix therefore two loops\n",
    "for i in data:\n",
    "    for j in i:\n",
    "        if j < 500:\n",
    "            print(j, end=' ')"
   ]
  },
  {
   "cell_type": "code",
   "execution_count": 26,
   "metadata": {},
   "outputs": [
    {
     "data": {
      "text/plain": [
       "array([[ True, False,  True,  True, False],\n",
       "       [ True, False,  True,  True, False],\n",
       "       [ True,  True,  True, False, False],\n",
       "       [ True, False, False, False,  True],\n",
       "       [False,  True,  True, False,  True]])"
      ]
     },
     "execution_count": 26,
     "metadata": {},
     "output_type": "execute_result"
    }
   ],
   "source": [
    "# pythonic way\n",
    "data<500    # boolean array"
   ]
  },
  {
   "cell_type": "code",
   "execution_count": 29,
   "metadata": {},
   "outputs": [
    {
     "data": {
      "text/plain": [
       "array([408, 112, 183, 362, 498, 355, 366, 493, 406,   7, 140, 472, 101,\n",
       "       424])"
      ]
     },
     "execution_count": 29,
     "metadata": {},
     "output_type": "execute_result"
    }
   ],
   "source": [
    "data[data<500]"
   ]
  },
  {
   "cell_type": "code",
   "execution_count": 32,
   "metadata": {},
   "outputs": [
    {
     "data": {
      "text/plain": [
       "array([408, 601, 112, 183, 532, 362, 874, 498, 355, 630, 366, 493, 406,\n",
       "       631, 588,   7, 977, 965, 638, 140, 796, 472, 101, 556, 424])"
      ]
     },
     "execution_count": 32,
     "metadata": {},
     "output_type": "execute_result"
    }
   ],
   "source": [
    "data[(data<100) | (data>50)]                # bitwise or -> |"
   ]
  },
  {
   "cell_type": "code",
   "execution_count": 33,
   "metadata": {},
   "outputs": [
    {
     "name": "stdout",
     "output_type": "stream",
     "text": [
      "[[81 74 23 89 92 16 15 57]\n",
      " [70 56 90 66 51 11 21 46]\n",
      " [95 47 80 70 48 56 63 58]\n",
      " [58 33 26 14 78 85 76 12]\n",
      " [32 31  3 49 61 18 57 69]\n",
      " [76 47 36 16 49  1 76 59]\n",
      " [45 77 42  2 98 78 18 65]\n",
      " [90  1 76 39  7 26 60 40]]\n"
     ]
    }
   ],
   "source": [
    "mat = np.random.randint(1,100,(8,8))\n",
    "print(mat)"
   ]
  },
  {
   "cell_type": "markdown",
   "metadata": {},
   "source": [
    "# 2d\n",
    "var[rstart:rstop:rstep,cstart:cstop:cstep]\n",
    "- [:,0] for first column\n",
    "- [:,-1] for last column"
   ]
  },
  {
   "cell_type": "code",
   "execution_count": 36,
   "metadata": {},
   "outputs": [
    {
     "data": {
      "text/plain": [
       "array([[81, 74, 23, 89, 92],\n",
       "       [70, 56, 90, 66, 51],\n",
       "       [95, 47, 80, 70, 48],\n",
       "       [58, 33, 26, 14, 78],\n",
       "       [32, 31,  3, 49, 61]])"
      ]
     },
     "execution_count": 36,
     "metadata": {},
     "output_type": "execute_result"
    }
   ],
   "source": [
    "mat[:5,:5]"
   ]
  },
  {
   "cell_type": "code",
   "execution_count": 38,
   "metadata": {},
   "outputs": [
    {
     "data": {
      "text/plain": [
       "array([[89, 15, 57],\n",
       "       [66, 21, 46],\n",
       "       [70, 63, 58],\n",
       "       [14, 76, 12],\n",
       "       [49, 57, 69],\n",
       "       [16, 76, 59],\n",
       "       [ 2, 18, 65],\n",
       "       [39, 60, 40]])"
      ]
     },
     "execution_count": 38,
     "metadata": {},
     "output_type": "execute_result"
    }
   ],
   "source": [
    "mat[:8,[3,6,7]]"
   ]
  },
  {
   "cell_type": "code",
   "execution_count": 40,
   "metadata": {},
   "outputs": [
    {
     "data": {
      "text/plain": [
       "array([[80, 70, 48, 56],\n",
       "       [26, 14, 78, 85],\n",
       "       [ 3, 49, 61, 18],\n",
       "       [36, 16, 49,  1]])"
      ]
     },
     "execution_count": 40,
     "metadata": {},
     "output_type": "execute_result"
    }
   ],
   "source": [
    "mat[2:-2,2:-2]"
   ]
  },
  {
   "cell_type": "code",
   "execution_count": 43,
   "metadata": {},
   "outputs": [
    {
     "data": {
      "text/plain": [
       "array([[81, 74, 23, 89, 92, 16, 15],\n",
       "       [70, 56, 90, 66, 51, 11, 21],\n",
       "       [95, 47, 80, 70, 48, 56, 63],\n",
       "       [58, 33, 26, 14, 78, 85, 76],\n",
       "       [32, 31,  3, 49, 61, 18, 57],\n",
       "       [76, 47, 36, 16, 49,  1, 76],\n",
       "       [45, 77, 42,  2, 98, 78, 18],\n",
       "       [90,  1, 76, 39,  7, 26, 60]])"
      ]
     },
     "execution_count": 43,
     "metadata": {},
     "output_type": "execute_result"
    }
   ],
   "source": [
    "mat[:,:-1]"
   ]
  },
  {
   "cell_type": "code",
   "execution_count": null,
   "metadata": {},
   "outputs": [],
   "source": []
  }
 ],
 "metadata": {
  "kernelspec": {
   "display_name": "Python 3.9.12 ('base')",
   "language": "python",
   "name": "python3"
  },
  "language_info": {
   "codemirror_mode": {
    "name": "ipython",
    "version": 3
   },
   "file_extension": ".py",
   "mimetype": "text/x-python",
   "name": "python",
   "nbconvert_exporter": "python",
   "pygments_lexer": "ipython3",
   "version": "3.9.12 (main, Apr  4 2022, 05:22:27) [MSC v.1916 64 bit (AMD64)]"
  },
  "orig_nbformat": 4,
  "vscode": {
   "interpreter": {
    "hash": "4db7988a1aeac412f04a0bbe6d07a55ff6c52906441e21d3e2b5cae684fe321d"
   }
  }
 },
 "nbformat": 4,
 "nbformat_minor": 2
}
